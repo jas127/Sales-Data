{
 "cells": [
  {
   "cell_type": "code",
   "execution_count": 133,
   "id": "51d5cc32-897d-4d88-ab4d-b9cdd95bb70a",
   "metadata": {},
   "outputs": [],
   "source": [
    "import pandas as pd"
   ]
  },
  {
   "cell_type": "code",
   "execution_count": 135,
   "id": "d6740df0-0bcb-4558-8d2b-6e5ece84be48",
   "metadata": {},
   "outputs": [],
   "source": [
    "# Load the CSV file (with fallback encoding)\n",
    "df = pd.read_csv('sales_data_sample.csv', encoding='ISO-8859-1')"
   ]
  },
  {
   "cell_type": "code",
   "execution_count": 163,
   "id": "e457c6da-e3bb-4fd4-a8ff-eb7b4fe919b9",
   "metadata": {},
   "outputs": [],
   "source": [
    "# Step 1: Convert ORDERDATE to datetime\n",
    "df['ORDERDATE'] = pd.to_datetime(df['ORDERDATE'], errors='coerce')"
   ]
  },
  {
   "cell_type": "code",
   "execution_count": 139,
   "id": "7f8a0cdd-4619-4e99-bdea-33a856a46d88",
   "metadata": {},
   "outputs": [],
   "source": [
    "# Step 2: Remove duplicate rows\n",
    "df_cleaned = df.drop_duplicates()"
   ]
  },
  {
   "cell_type": "code",
   "execution_count": 141,
   "id": "0baeec92-42c3-4a81-8369-0511e1763af2",
   "metadata": {},
   "outputs": [],
   "source": [
    "# Step 3: Strip whitespace from string columns\n",
    "str_cols = df_cleaned.select_dtypes(include='object').columns\n",
    "df_cleaned[str_cols] = df_cleaned[str_cols].apply(lambda x: x.str.strip())"
   ]
  },
  {
   "cell_type": "code",
   "execution_count": 143,
   "id": "339c202a-ae4c-4a47-abb9-c9d53c7162c2",
   "metadata": {},
   "outputs": [],
   "source": [
    "# Step 4: Standardize column names\n",
    "df_cleaned.columns = df_cleaned.columns.str.strip().str.lower().str.replace(' ', '_')"
   ]
  },
  {
   "cell_type": "code",
   "execution_count": 145,
   "id": "e1457323-2889-453e-ae15-51dd6bcf1c6e",
   "metadata": {},
   "outputs": [
    {
     "name": "stdout",
     "output_type": "stream",
     "text": [
      "addressline2    2521\n",
      "state           1486\n",
      "postalcode        76\n",
      "territory       1074\n",
      "dtype: int64\n"
     ]
    }
   ],
   "source": [
    "# Step 5: Check missing values\n",
    "missing_values = df_cleaned.isnull().sum()\n",
    "print(missing_values[missing_values > 0])"
   ]
  },
  {
   "cell_type": "code",
   "execution_count": 147,
   "id": "87ced040-263a-4d09-8726-a4baef83593b",
   "metadata": {},
   "outputs": [],
   "source": [
    "# Step 6: Handle missing values\n",
    "df_cleaned = df_cleaned.drop(columns=['addressline2'])  # Drop addressline2"
   ]
  },
  {
   "cell_type": "code",
   "execution_count": 149,
   "id": "be57d245-786e-48b8-96a6-248510556777",
   "metadata": {},
   "outputs": [],
   "source": [
    "# Fill state and territory with their mode (most common value)\n",
    "df_cleaned['state'] = df_cleaned['state'].fillna(df_cleaned['state'].mode()[0])\n",
    "df_cleaned['territory'] = df_cleaned['territory'].fillna(df_cleaned['territory'].mode()[0])\n",
    "\n",
    "# Fill postalcode using forward fill\n",
    "df_cleaned['postalcode'] = df_cleaned['postalcode'].ffill()"
   ]
  },
  {
   "cell_type": "code",
   "execution_count": 151,
   "id": "3b704674-89ea-40e3-a9da-bf8407ffc4d2",
   "metadata": {},
   "outputs": [],
   "source": [
    "from sklearn.preprocessing import LabelEncoder\n",
    "# Step 7: Encode categorical variable 'dealsize'\n",
    "le = LabelEncoder()\n",
    "df_cleaned['dealsize_encoded'] = le.fit_transform(df_cleaned['dealsize'])"
   ]
  },
  {
   "cell_type": "code",
   "execution_count": 153,
   "id": "075520a7-5658-4673-afe5-4de23d1bc57a",
   "metadata": {},
   "outputs": [],
   "source": [
    "# Step 8: Remove outliers from 'sales' using IQR method\n",
    "Q1 = df_cleaned['sales'].quantile(0.25)\n",
    "Q3 = df_cleaned['sales'].quantile(0.75)\n",
    "IQR = Q3 - Q1"
   ]
  },
  {
   "cell_type": "code",
   "execution_count": 155,
   "id": "cf1fdd8f-d5f0-4e3d-bfc5-569b61186bd4",
   "metadata": {},
   "outputs": [],
   "source": [
    "df_cleaned = df_cleaned[\n",
    "    ~((df_cleaned['sales'] < (Q1 - 1.5 * IQR)) | (df_cleaned['sales'] > (Q3 + 1.5 * IQR)))\n",
    "]\n"
   ]
  },
  {
   "cell_type": "code",
   "execution_count": 157,
   "id": "83d74032-fda4-4b74-9654-a05793df9007",
   "metadata": {},
   "outputs": [
    {
     "name": "stdout",
     "output_type": "stream",
     "text": [
      "<class 'pandas.core.frame.DataFrame'>\n",
      "RangeIndex: 2823 entries, 0 to 2822\n",
      "Data columns (total 25 columns):\n",
      " #   Column            Non-Null Count  Dtype         \n",
      "---  ------            --------------  -----         \n",
      " 0   ORDERNUMBER       2823 non-null   int64         \n",
      " 1   QUANTITYORDERED   2823 non-null   int64         \n",
      " 2   PRICEEACH         2823 non-null   float64       \n",
      " 3   ORDERLINENUMBER   2823 non-null   int64         \n",
      " 4   SALES             2823 non-null   float64       \n",
      " 5   ORDERDATE         2823 non-null   datetime64[ns]\n",
      " 6   STATUS            2823 non-null   object        \n",
      " 7   QTR_ID            2823 non-null   int64         \n",
      " 8   MONTH_ID          2823 non-null   int64         \n",
      " 9   YEAR_ID           2823 non-null   int64         \n",
      " 10  PRODUCTLINE       2823 non-null   object        \n",
      " 11  MSRP              2823 non-null   int64         \n",
      " 12  PRODUCTCODE       2823 non-null   object        \n",
      " 13  CUSTOMERNAME      2823 non-null   object        \n",
      " 14  PHONE             2823 non-null   object        \n",
      " 15  ADDRESSLINE1      2823 non-null   object        \n",
      " 16  ADDRESSLINE2      302 non-null    object        \n",
      " 17  CITY              2823 non-null   object        \n",
      " 18  STATE             1337 non-null   object        \n",
      " 19  POSTALCODE        2747 non-null   object        \n",
      " 20  COUNTRY           2823 non-null   object        \n",
      " 21  TERRITORY         1749 non-null   object        \n",
      " 22  CONTACTLASTNAME   2823 non-null   object        \n",
      " 23  CONTACTFIRSTNAME  2823 non-null   object        \n",
      " 24  DEALSIZE          2823 non-null   object        \n",
      "dtypes: datetime64[ns](1), float64(2), int64(7), object(15)\n",
      "memory usage: 551.5+ KB\n",
      "None\n"
     ]
    }
   ],
   "source": [
    "#Original Uncleaned Dataset\n",
    "print(df.info())"
   ]
  },
  {
   "cell_type": "code",
   "execution_count": 159,
   "id": "6dfd284f-066d-4bef-b598-4afc4b7e88da",
   "metadata": {},
   "outputs": [
    {
     "name": "stdout",
     "output_type": "stream",
     "text": [
      "<class 'pandas.core.frame.DataFrame'>\n",
      "Index: 2742 entries, 0 to 2822\n",
      "Data columns (total 25 columns):\n",
      " #   Column            Non-Null Count  Dtype         \n",
      "---  ------            --------------  -----         \n",
      " 0   ordernumber       2742 non-null   int64         \n",
      " 1   quantityordered   2742 non-null   int64         \n",
      " 2   priceeach         2742 non-null   float64       \n",
      " 3   orderlinenumber   2742 non-null   int64         \n",
      " 4   sales             2742 non-null   float64       \n",
      " 5   orderdate         2742 non-null   datetime64[ns]\n",
      " 6   status            2742 non-null   object        \n",
      " 7   qtr_id            2742 non-null   int64         \n",
      " 8   month_id          2742 non-null   int64         \n",
      " 9   year_id           2742 non-null   int64         \n",
      " 10  productline       2742 non-null   object        \n",
      " 11  msrp              2742 non-null   int64         \n",
      " 12  productcode       2742 non-null   object        \n",
      " 13  customername      2742 non-null   object        \n",
      " 14  phone             2742 non-null   object        \n",
      " 15  addressline1      2742 non-null   object        \n",
      " 16  city              2742 non-null   object        \n",
      " 17  state             2742 non-null   object        \n",
      " 18  postalcode        2742 non-null   object        \n",
      " 19  country           2742 non-null   object        \n",
      " 20  territory         2742 non-null   object        \n",
      " 21  contactlastname   2742 non-null   object        \n",
      " 22  contactfirstname  2742 non-null   object        \n",
      " 23  dealsize          2742 non-null   object        \n",
      " 24  dealsize_encoded  2742 non-null   int64         \n",
      "dtypes: datetime64[ns](1), float64(2), int64(8), object(14)\n",
      "memory usage: 557.0+ KB\n",
      "None\n"
     ]
    }
   ],
   "source": [
    "# Final summary\n",
    "print(df_cleaned.info())"
   ]
  },
  {
   "cell_type": "code",
   "execution_count": 161,
   "id": "809675d0-b363-4f0b-885e-1e6562b21c9f",
   "metadata": {},
   "outputs": [],
   "source": [
    "#Export the cleaned dataset\n",
    "df_cleaned.to_csv(\"sales_data_cleaned.csv\", index=False)"
   ]
  },
  {
   "cell_type": "code",
   "execution_count": null,
   "id": "5b494b4b-1ed9-42e4-9c81-7bbb87c9b8d2",
   "metadata": {},
   "outputs": [],
   "source": []
  }
 ],
 "metadata": {
  "kernelspec": {
   "display_name": "Python 3 (ipykernel)",
   "language": "python",
   "name": "python3"
  },
  "language_info": {
   "codemirror_mode": {
    "name": "ipython",
    "version": 3
   },
   "file_extension": ".py",
   "mimetype": "text/x-python",
   "name": "python",
   "nbconvert_exporter": "python",
   "pygments_lexer": "ipython3",
   "version": "3.12.2"
  }
 },
 "nbformat": 4,
 "nbformat_minor": 5
}
